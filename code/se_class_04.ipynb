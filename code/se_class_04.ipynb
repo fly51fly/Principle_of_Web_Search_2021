{
 "cells": [
  {
   "cell_type": "code",
   "execution_count": 37,
   "id": "8795fa3e-b17d-4adf-8510-feccfcd3958e",
   "metadata": {},
   "outputs": [],
   "source": [
    "from IPython.core.display import display, HTML\n",
    "import bisect\n",
    "from collections import defaultdict\n",
    "import jieba\n",
    "import pickle\n",
    "\n",
    "class MySearchC4V0():\n",
    "    \"\"\"\n",
    "    C3V0: Base class for Search Engine.\n",
    "    C3V1: Data multiplication added.\n",
    "    C3V2: Sorting optimization.\n",
    "    C3V3: Add lowered version of docs.\n",
    "    C3V4: For long doc.\n",
    "    C3V5: Caching search results.\n",
    "    C3V6: Pre-caching all words in docs.\n",
    "    C3V7: Add Serialize/UnSerialize.\n",
    "    ----------------C4V0-----------------\n",
    "\n",
    "    Attributes\n",
    "    ----------\n",
    "    filename : str\n",
    "        file name of doc data\n",
    "    multi_factor : int\n",
    "        data multiplication factor(default 1)\n",
    "\n",
    "    Methods\n",
    "    -------\n",
    "    load_data(filename):\n",
    "        load data from file.\n",
    "    save_data(filename):\n",
    "        save data to file\n",
    "    pre_cache_all():\n",
    "        Pre-caching all words in docs.\n",
    "    highlight(text, keyword):\n",
    "        highlight text with keyword.\n",
    "    score(text, keyword):\n",
    "        get score of text for a query.\n",
    "    get_word_match(self, keyword):\n",
    "        get doc set containing keyword.\n",
    "    search(keyword, num=15):\n",
    "        get top num search results of a query.\n",
    "    render(result_list, keyword):\n",
    "        output search results with highlight.\n",
    "    \"\"\"\n",
    "    \n",
    "    def __init__(self, filename, multi_factor=1):\n",
    "        self.docs = []\n",
    "        self.docs_lower = []\n",
    "        self.search_cache = defaultdict(set)\n",
    "        self.multi_factor = multi_factor\n",
    "        self.load_data(filename)\n",
    "    \n",
    "    def highlight(self, text, keyword, ori_text):\n",
    "        idx = text.find(keyword)\n",
    "        result = text\n",
    "        if idx >= 0:\n",
    "            ori_keyword = ori_text[idx:idx+len(keyword)]\n",
    "            result = ori_text.replace(ori_keyword, f'<span style=\"color:red\">{ori_keyword}</span>')\n",
    "        return result\n",
    "    \n",
    "    def score(self, text, keyword):\n",
    "        result = text.count(keyword)\n",
    "        return result\n",
    "    \n",
    "    def get_word_match(self, keyword):\n",
    "        result_set = set()\n",
    "        if keyword in self.search_cache: \n",
    "            result_set = self.search_cache[keyword] \n",
    "        else:\n",
    "            for tid, title in enumerate(self.docs_lower):\n",
    "                if keyword in title:\n",
    "                    result_set.add(tid)\n",
    "            self.search_cache[keyword] = result_set\n",
    "        return result_set\n",
    "            \n",
    "    def search(self, keyword, num=15):\n",
    "        keyword_lower = keyword.lower()    \n",
    "        result_list = []\n",
    "        min_score = 0\n",
    "        for tid in self.get_word_match(keyword_lower):\n",
    "            doc = self.docs_lower[tid]\n",
    "            if keyword_lower in doc:\n",
    "                score = self.score(doc, keyword_lower)\n",
    "                if len(result_list) == num:\n",
    "                    if score > min_score:\n",
    "                        insert_idx = bisect.bisect(\n",
    "                            [doc_score[1] for doc_score in result_list], \n",
    "                            score\n",
    "                        )\n",
    "                        min_score = result_list[0][1]\n",
    "                        result_list = result_list[1:insert_idx] + \\\n",
    "                                        [(tid, score)] + \\\n",
    "                                        result_list[insert_idx:]\n",
    "                elif len(result_list) < num - 1:\n",
    "                    result_list.append((tid, score))\n",
    "                elif len(result_list) == num - 1:\n",
    "                    result_list.append((tid, score))\n",
    "                    result_list.sort(key = lambda x: x[1])\n",
    "                    min_score = result_list[0][1]\n",
    "        return [doc_id for doc_id, _ in result_list[::-1]]\n",
    "    \n",
    "    def render(self, result_list, keyword):\n",
    "        count = 1\n",
    "        for item in result_list:\n",
    "            result = self.highlight(\n",
    "                self.docs_lower[item], \n",
    "                keyword.lower(), \n",
    "                self.docs[item]\n",
    "            ).replace('$$$', '<br/>') #\n",
    "            display(HTML(f\"{count}、{result[:150]}......\")) #\n",
    "            count += 1\n",
    "            \n",
    "    def pre_cache_all(self):\n",
    "        for tid, doc in enumerate(self.docs_lower):\n",
    "            for word in jieba.cut_for_search(doc):\n",
    "                self.search_cache[word].add(tid)\n",
    "                \n",
    "    def load_data(self, filename):\n",
    "        if filename[-3:] == 'txt':\n",
    "            with open(filename, 'r') as f:\n",
    "                self.docs = f.read().split('\\n')\n",
    "            self.docs_lower = [doc.lower() for doc in self.docs]\n",
    "            self.docs = self.docs * self.multi_factor \n",
    "            self.docs_lower = self.docs_lower * self.multi_factor\n",
    "            self.pre_cache_all()\n",
    "        elif filename[-3:] == 'dat':\n",
    "            with open(filename, 'rb') as f:\n",
    "                self.docs, self.docs_lower, self.search_cache = pickle.load(f)\n",
    "                \n",
    "    def save_data(self, filename):\n",
    "        with open(filename, 'wb') as f:\n",
    "            pickle.dump((self.docs, self.docs_lower, self.search_cache), f)\n",
    "            "
   ]
  },
  {
   "cell_type": "code",
   "execution_count": 38,
   "id": "74e0896c-db38-4235-badb-8fd62b81a1d7",
   "metadata": {},
   "outputs": [],
   "source": [
    "searcher = MySearchC4V0('titles_l.txt', 1)"
   ]
  },
  {
   "cell_type": "code",
   "execution_count": 39,
   "id": "f15bac21-08e4-4934-b8a2-7b47cd365467",
   "metadata": {},
   "outputs": [],
   "source": [
    "searcher.save_data('titles_l.dat')"
   ]
  },
  {
   "cell_type": "code",
   "execution_count": 40,
   "id": "95696b6e-83b9-4c58-be3a-c7d18d47800d",
   "metadata": {},
   "outputs": [],
   "source": [
    "searcher = MySearchC4V0('titles_l.dat', 1)"
   ]
  },
  {
   "cell_type": "code",
   "execution_count": 41,
   "id": "dfe09444-9beb-47bd-abab-7de1b06d680b",
   "metadata": {},
   "outputs": [
    {
     "data": {
      "text/html": [
       "1、iPhone 13出来后！闲鱼上的二手iPhone简直不要太香<br/>事情的起因是这样的，每次苹果发布新款 iPhone，托尼总能注意到网上都会出现一帮网友在喊着 “ 老款 iPhone 降价，终于可以去买老款了 ” 的口号。出现这种现象的原因往往不是因为新出来的 iPhone 不香，而是要怪 i......"
      ],
      "text/plain": [
       "<IPython.core.display.HTML object>"
      ]
     },
     "metadata": {},
     "output_type": "display_data"
    },
    {
     "data": {
      "text/html": [
       "2、A15残暴！iPhone 13 Pro Max上手实测：不愧为机皇<br/>延续经典外观设计，缩小“刘海儿”占比，一年一更的SoC芯片，性能大幅提升的同时外观带来新配色。这，就是今年的iPhone 13系列。和去年一样，在今年苹果依然为我们带来了4款iPhone产品，通过尺寸大小、硬件性能进行区分。......"
      ],
      "text/plain": [
       "<IPython.core.display.HTML object>"
      ]
     },
     "metadata": {},
     "output_type": "display_data"
    },
    {
     "data": {
      "text/html": [
       "3、打破三大“潜规则”  真我GT Neo2成为2500元档质价比之王<br/>昨天，realme正式发布了新机真我GT Neo2，这款<span style=\"color:red\">手机</span>在设计质感，散热、续航、触控等性能体验等方面，堪称同级别<span style=\"color:red\"......"
      ],
      "text/plain": [
       "<IPython.core.display.HTML object>"
      ]
     },
     "metadata": {},
     "output_type": "display_data"
    },
    {
     "data": {
      "text/html": [
       "4、iPhone 13的\"创新\" 安卓阵营早就玩腻了<br/>苹果iPhone 13系列已于9月24日正式开售，首批抢购的用户也已陆陆续续收到<span style=\"color:red\">手机</span>。今年的iPhone 13“创新性”地加入了120Hz ProMotion高刷屏幕，“刘海儿”也......"
      ],
      "text/plain": [
       "<IPython.core.display.HTML object>"
      ]
     },
     "metadata": {},
     "output_type": "display_data"
    },
    {
     "data": {
      "text/html": [
       "5、iPhone 13系列大降价！国产<span style=\"color:red\">手机</span>难受了<br/>华为<span style=\"color:red\">手机</span>逐渐退出主流市场后，其余国产<span style=\"color:red\">手机</span>品牌抓住机会努力冲击......"
      ],
      "text/plain": [
       "<IPython.core.display.HTML object>"
      ]
     },
     "metadata": {},
     "output_type": "display_data"
    }
   ],
   "source": [
    "keyword = '手机'\n",
    "search_result = searcher.search(keyword, num=5)\n",
    "searcher.render(search_result, keyword)"
   ]
  },
  {
   "attachments": {
    "d7e25048-bc6e-42f7-a76a-84587eb16ca5.jpg": {
     "image/jpeg": "[encoded data removed]"
    }
   },
   "cell_type": "markdown",
   "id": "840c42fd-c9b2-4123-876e-8f0e5694f730",
   "metadata": {},
   "source": [
    "### 缓存 -> 倒排索引\n",
    "#### 倒排索引（`Inverted index`），也常被称为反向索引、置入文件或反向文件，是一种索引方法，被用来存储在全文搜索下某个单词在一个文档或者一组文档中的存储位置的映射。它是文档检索系统中最常用的数据结构。 ——维基百科  \n",
    "![Image on 2021-10-07 04.15.02 PM.jpg](attachment:d7e25048-bc6e-42f7-a76a-84587eb16ca5.jpg)"
   ]
  },
  {
   "attachments": {
    "8c0a2bac-f688-408e-a6ef-b123d2aef216.jpg": {
     "image/jpeg": "[encoded data removed]"
    }
   },
   "cell_type": "markdown",
   "id": "25ae10e8-42ea-44fa-b84d-f3f82a3c6482",
   "metadata": {},
   "source": [
    "### 布尔查询  \n",
    "#### 布尔查询是指利用`AND`,`OR`或者`NOT`操作符将词项连接起来的查询  \n",
    "例如：`Brutus AND Caesar AND NOT Calpurnia`  \n",
    "![Image on 2021-10-07 04.34.50 PM.jpg](attachment:8c0a2bac-f688-408e-a6ef-b123d2aef216.jpg)  \n",
    "`Posting('Brutus') ∩ Posting('Caesar') - Posting('Calpurnia')`  "
   ]
  },
  {
   "cell_type": "code",
   "execution_count": 42,
   "id": "eac1883c-2a38-468a-8c7f-25aede2a5649",
   "metadata": {},
   "outputs": [],
   "source": [
    "posting_Brutus = set([2, 4, 8, 16, 64, 128])\n",
    "posting_Caesar = set([1, 2, 3, 5, 8, 16, 21, 34])\n",
    "posting_Calpurnia = set([13, 16])"
   ]
  },
  {
   "cell_type": "code",
   "execution_count": 43,
   "id": "f14db8cf-eaa0-4f39-8244-4bc35b13c825",
   "metadata": {},
   "outputs": [
    {
     "data": {
      "text/plain": [
       "{2, 8}"
      ]
     },
     "execution_count": 43,
     "metadata": {},
     "output_type": "execute_result"
    }
   ],
   "source": [
    "posting_Brutus & posting_Caesar - posting_Calpurnia"
   ]
  },
  {
   "cell_type": "code",
   "execution_count": 44,
   "id": "242810df-e9ef-4b4d-84cb-607b890e6327",
   "metadata": {},
   "outputs": [
    {
     "data": {
      "text/plain": [
       "115"
      ]
     },
     "execution_count": 44,
     "metadata": {},
     "output_type": "execute_result"
    }
   ],
   "source": [
    "len(searcher.search_cache['手机'])"
   ]
  },
  {
   "cell_type": "code",
   "execution_count": 45,
   "id": "a46aafd7-a097-43fa-b313-6232259d0f13",
   "metadata": {},
   "outputs": [
    {
     "data": {
      "text/plain": [
       "6"
      ]
     },
     "execution_count": 45,
     "metadata": {},
     "output_type": "execute_result"
    }
   ],
   "source": [
    "len(searcher.search_cache['二手'])"
   ]
  },
  {
   "cell_type": "code",
   "execution_count": 46,
   "id": "db88ca88-32b7-47a7-bec9-f84a9ee0663d",
   "metadata": {},
   "outputs": [
    {
     "data": {
      "text/plain": [
       "{606, 627}"
      ]
     },
     "execution_count": 46,
     "metadata": {},
     "output_type": "execute_result"
    }
   ],
   "source": [
    "searcher.search_cache['手机'] & searcher.search_cache['二手']"
   ]
  },
  {
   "cell_type": "code",
   "execution_count": 47,
   "id": "4cd4d164-bd96-401b-8410-54c7d20262de",
   "metadata": {},
   "outputs": [
    {
     "name": "stdout",
     "output_type": "stream",
     "text": [
      "iPhone 13出来后！闲鱼上的二手iPhone简直不要太香$$$事情的起因是这样的，每次苹果发布新款 iPhone，托尼总能注意到网上都会出现一帮网友在喊着 “ 老款 iPhone 降价，终于可以去买老款了 ” 的口号。出现这种现象的原因往往不是因为新出来的 iPhone 不香，而是要怪 iPh...\n",
      "网友向罗永浩求购绝版旗舰！本人免费赠送了一台$$$近日一位网友微博求购二手坚果R1，这位网友@锤子科技CEO罗永浩：“罗哥你R1能卖我一台吗”？10月2日，作为锤子科技的年度旗舰，坚果R1创新性引入了TNT，使用扩展坞和HDMI数据线可将坚果R1手机连接至显示器，体验高效便捷的TNT大屏幕操作系统。...\n"
     ]
    }
   ],
   "source": [
    "for did in searcher.search_cache['手机'] & searcher.search_cache['二手']:\n",
    "    print(searcher.docs[did][:150] + '...')"
   ]
  },
  {
   "cell_type": "markdown",
   "id": "d3f88af6-a8b1-4ee3-aa20-4fdd69f0445e",
   "metadata": {},
   "source": [
    "#### 目标：`二手 and 手机`  ->  `Posting('二手') & Posting('手机')`  "
   ]
  },
  {
   "cell_type": "code",
   "execution_count": 49,
   "id": "5931b851-c8de-4903-9bb5-29f9d0a03755",
   "metadata": {},
   "outputs": [
    {
     "data": {
      "text/plain": [
       "{606, 627}"
      ]
     },
     "execution_count": 49,
     "metadata": {},
     "output_type": "execute_result"
    }
   ],
   "source": [
    "eval(\"searcher.search_cache['手机'] & searcher.search_cache['二手']\")"
   ]
  },
  {
   "cell_type": "code",
   "execution_count": 50,
   "id": "b80b4f3f-13a0-4796-aa27-ee1ba019aa28",
   "metadata": {},
   "outputs": [
    {
     "data": {
      "text/plain": [
       "{606, 627}"
      ]
     },
     "execution_count": 50,
     "metadata": {},
     "output_type": "execute_result"
    }
   ],
   "source": [
    "def get_word_match(word):\n",
    "    return searcher.search_cache[word]\n",
    "eval(\"get_word_match('手机') & get_word_match('二手')\")"
   ]
  },
  {
   "cell_type": "code",
   "execution_count": 52,
   "id": "4b313645-ac60-4d32-99da-63e66a5301a7",
   "metadata": {},
   "outputs": [],
   "source": [
    "def query_to_set_expression(query):\n",
    "    query_new_parts = []\n",
    "    all_parts = list(query.replace('(', ' ( ').replace(')', ' ) ').split())\n",
    "    idx = 0\n",
    "    cache = '' #缓存变量，用于回收分词过程被切开的短语片段\n",
    "    count_parts = len(all_parts)\n",
    "    print(f'seg result: \"{\" \".join(all_parts)}\"')\n",
    "    while idx < count_parts:\n",
    "        if all_parts[idx] == '(' or all_parts[idx] == ')':\n",
    "            query_new_parts.append(all_parts[idx])\n",
    "            print(f\"new part: {all_parts[idx]}\")\n",
    "        elif all_parts[idx] == ' ' or all_parts[idx] == '':\n",
    "            query_new_parts.append(' ')\n",
    "            print(f\"new part: ' '\")\n",
    "        elif all_parts[idx] in ('and', 'AND', '+'):\n",
    "            query_new_parts.append('&')\n",
    "            print(f\"new part: '&'\")\n",
    "        elif all_parts[idx] in ('or', 'OR'):\n",
    "            query_new_parts.append('|')\n",
    "            print(f\"new part: '|'\")\n",
    "        elif all_parts[idx] in ('not', 'NOT', '-'):\n",
    "            query_new_parts.append('-')\n",
    "            print(f\"new part: '-'\")\n",
    "        else:\n",
    "            if cache:\n",
    "                cache += ' ' + all_parts[idx]\n",
    "            else:\n",
    "                cache = all_parts[idx]\n",
    "                \n",
    "            if (idx + 1 == count_parts\n",
    "              or all_parts[idx + 1] in ('(', ')', 'and', 'AND', '+', 'or', 'OR', 'NOT', 'not', '+', '-', ' ', '')):\n",
    "                query_new_parts.append(f\"get_word_match('{cache}')\")\n",
    "                print(f\"new part: get_word_match('{cache}')\")\n",
    "                cache = ''\n",
    "        idx += 1\n",
    "    query_new = ''.join(query_new_parts)\n",
    "    return query_new"
   ]
  },
  {
   "cell_type": "code",
   "execution_count": 53,
   "id": "e54306bc-81b6-4def-b826-ec65398f8921",
   "metadata": {},
   "outputs": [
    {
     "name": "stdout",
     "output_type": "stream",
     "text": [
      "seg result: \"手机 AND 二手 NOT 飞机\"\n",
      "new part: get_word_match('手机')\n",
      "new part: '&'\n",
      "new part: get_word_match('二手')\n",
      "new part: '-'\n",
      "new part: get_word_match('飞机')\n"
     ]
    },
    {
     "data": {
      "text/plain": [
       "\"get_word_match('手机')&get_word_match('二手')-get_word_match('飞机')\""
      ]
     },
     "execution_count": 53,
     "metadata": {},
     "output_type": "execute_result"
    }
   ],
   "source": [
    "query_to_set_expression('手机 AND 二手 NOT 飞机')"
   ]
  },
  {
   "cell_type": "code",
   "execution_count": 54,
   "id": "459313b7-cc0f-41e7-a0ca-1cd3ed327b97",
   "metadata": {},
   "outputs": [
    {
     "name": "stdout",
     "output_type": "stream",
     "text": [
      "seg result: \"手机 AND 二手 NOT 飞机\"\n",
      "new part: get_word_match('手机')\n",
      "new part: '&'\n",
      "new part: get_word_match('二手')\n",
      "new part: '-'\n",
      "new part: get_word_match('飞机')\n"
     ]
    },
    {
     "data": {
      "text/plain": [
       "{606, 627}"
      ]
     },
     "execution_count": 54,
     "metadata": {},
     "output_type": "execute_result"
    }
   ],
   "source": [
    "eval(query_to_set_expression('手机 AND 二手 NOT 飞机'))"
   ]
  },
  {
   "cell_type": "code",
   "execution_count": 55,
   "id": "fd706105-1005-49c3-90f0-2953189257b0",
   "metadata": {},
   "outputs": [],
   "source": [
    "from IPython.core.display import display, HTML\n",
    "import bisect\n",
    "from collections import defaultdict\n",
    "import jieba\n",
    "import pickle\n",
    "\n",
    "class MySearchC4V1(MySearchC4V0):\n",
    "    \"\"\"\n",
    "    C3V0: Base class for Search Engine.\n",
    "    C3V1: Data multiplication added.\n",
    "    C3V2: Sorting optimization.\n",
    "    C3V3: Add lowered version of docs.\n",
    "    C3V4: For long doc.\n",
    "    C3V5: Caching search results.\n",
    "    C3V6: Pre-caching all words in docs.\n",
    "    C3V7: Add Serialize/UnSerialize.\n",
    "    ----------------C4V0-----------------\n",
    "    C4V1: Add basic Bool query support\n",
    "\n",
    "    Attributes\n",
    "    ----------\n",
    "    filename : str\n",
    "        file name of doc data\n",
    "    multi_factor : int\n",
    "        data multiplication factor(default 1)\n",
    "\n",
    "    Methods\n",
    "    -------\n",
    "    load_data(filename):\n",
    "        load data from file.\n",
    "    save_data(filename):\n",
    "        save data to file\n",
    "    pre_cache_all():\n",
    "        Pre-caching all words in docs.\n",
    "    highlight(text, keyword):\n",
    "        highlight text with keyword.\n",
    "    score(text, keyword):\n",
    "        get score of text for a query.\n",
    "    get_word_match(self, keyword):\n",
    "        get doc set containing keyword.\n",
    "    search(keyword, num=15):\n",
    "        get top num search results of a query.\n",
    "    render(result_list, keyword):\n",
    "        output search results with highlight.\n",
    "    query_to_set_expression(query):\n",
    "        convert bool query to set expression(for eval process).\n",
    "    get_word_match(word):\n",
    "        get match set of the word.\n",
    "    \"\"\"\n",
    "    \n",
    "    def query_to_set_expression(self, query):\n",
    "        query_new_parts = []\n",
    "        all_parts = list(query.replace('(', ' ( ').replace(')', ' ) ').split())\n",
    "        idx = 0\n",
    "        cache = ''\n",
    "        count_parts = len(all_parts)\n",
    "        while idx < count_parts:\n",
    "            if all_parts[idx] == '(' or all_parts[idx] == ')':\n",
    "                query_new_parts.append(all_parts[idx])\n",
    "            elif all_parts[idx] == ' ' or all_parts[idx] == '':\n",
    "                query_new_parts.append(' ')\n",
    "            elif all_parts[idx] in ('and', 'AND', '+'):\n",
    "                query_new_parts.append('&')\n",
    "            elif all_parts[idx] in ('or', 'OR'):\n",
    "                query_new_parts.append('|')\n",
    "            elif all_parts[idx] in ('not', 'NOT', '-'):\n",
    "                query_new_parts.append('-')\n",
    "            else:\n",
    "                if cache:\n",
    "                    cache += ' ' + all_parts[idx]\n",
    "                else:\n",
    "                    cache = all_parts[idx]\n",
    "\n",
    "                if (idx + 1 == count_parts\n",
    "                  or all_parts[idx + 1] in ('(', ')', 'and', 'AND', '+', 'or', 'OR', 'NOT', 'not', '+', '-', ' ', '')):\n",
    "                    query_new_parts.append(f\"self.get_word_match('{cache}')\")\n",
    "                    cache = ''\n",
    "            idx += 1\n",
    "        query_new = ''.join(query_new_parts)\n",
    "        return query_new\n",
    "    \n",
    "    def get_word_match(self, word):\n",
    "        return self.search_cache[word]\n",
    "    \n",
    "    def search(self, query, num=15):\n",
    "        query_lower = query.lower()    \n",
    "        result_list = []\n",
    "        min_score = 0\n",
    "        query_new = self.query_to_set_expression(query_lower)\n",
    "        for tid in eval(query_new):\n",
    "            doc = self.docs_lower[tid]\n",
    "            score = 1 #self.score(doc, keyword_lower)\n",
    "            if len(result_list) == num:\n",
    "                if score > min_score:\n",
    "                    insert_idx = bisect.bisect(\n",
    "                        [doc_score[1] for doc_score in result_list], \n",
    "                        score\n",
    "                    )\n",
    "                    min_score = result_list[0][1]\n",
    "                    result_list = result_list[1:insert_idx] + \\\n",
    "                                    [(tid, score)] + \\\n",
    "                                    result_list[insert_idx:]\n",
    "            elif len(result_list) < num - 1:\n",
    "                result_list.append((tid, score))\n",
    "            elif len(result_list) == num - 1:\n",
    "                result_list.append((tid, score))\n",
    "                result_list.sort(key = lambda x: x[1])\n",
    "                min_score = result_list[0][1]\n",
    "        return [doc_id for doc_id, _ in result_list[::-1]]"
   ]
  },
  {
   "cell_type": "code",
   "execution_count": 56,
   "id": "ee334283-04b9-43ad-b623-7d527fd7772e",
   "metadata": {},
   "outputs": [],
   "source": [
    "searcher = MySearchC4V1('titles_l.dat', 1)"
   ]
  },
  {
   "cell_type": "code",
   "execution_count": 57,
   "id": "80872d44-d98d-4111-9ef5-faefafb0ec66",
   "metadata": {},
   "outputs": [
    {
     "data": {
      "text/html": [
       "1、网友向罗永浩求购绝版旗舰！本人免费赠送了一台<br/>近日一位网友微博求购二手坚果r1，这位网友@锤子科技ceo罗永浩：“罗哥你r1能卖我一台吗”？10月2日，作为锤子科技的年度旗舰，坚果r1创新性引入了tnt，使用扩展坞和hdmi数据线可将坚果r1手机连接至显示器，体验高效便捷的tnt大屏幕操作系......"
      ],
      "text/plain": [
       "<IPython.core.display.HTML object>"
      ]
     },
     "metadata": {},
     "output_type": "display_data"
    },
    {
     "data": {
      "text/html": [
       "2、iphone 13出来后！闲鱼上的二手iphone简直不要太香<br/>事情的起因是这样的，每次苹果发布新款 iphone，托尼总能注意到网上都会出现一帮网友在喊着 “ 老款 iphone 降价，终于可以去买老款了 ” 的口号。出现这种现象的原因往往不是因为新出来的 iphone 不香，而是要怪 i......"
      ],
      "text/plain": [
       "<IPython.core.display.HTML object>"
      ]
     },
     "metadata": {},
     "output_type": "display_data"
    }
   ],
   "source": [
    "query = '手机 AND 二手 NOT 飞机'\n",
    "search_result = searcher.search(query, num=5)\n",
    "searcher.render(search_result, query)"
   ]
  },
  {
   "cell_type": "code",
   "execution_count": 58,
   "id": "230e0d16-4838-43da-9dd7-564ded9293d3",
   "metadata": {},
   "outputs": [],
   "source": [
    "query = 'iphone手机 AND 二手 NOT 飞机'\n",
    "search_result = searcher.search(query, num=5)\n",
    "searcher.render(search_result, query)"
   ]
  },
  {
   "cell_type": "markdown",
   "id": "6f82754e-31ca-4663-aaa2-c801bd9e1f26",
   "metadata": {},
   "source": [
    "### 错误分析：如果布尔查询中的子段落不是词，而是短语、短句，无法直接从`search_cache`中找到对应Posting"
   ]
  },
  {
   "cell_type": "code",
   "execution_count": 59,
   "id": "a9d0c574-c0e8-4285-b26c-96d2d67c6bf8",
   "metadata": {},
   "outputs": [],
   "source": [
    "from IPython.core.display import display, HTML\n",
    "import bisect\n",
    "from collections import defaultdict\n",
    "import jieba\n",
    "import pickle\n",
    "\n",
    "class MySearchC4V2(MySearchC4V1):\n",
    "    \"\"\"\n",
    "    C3V0: Base class for Search Engine.\n",
    "    C3V1: Data multiplication added.\n",
    "    C3V2: Sorting optimization.\n",
    "    C3V3: Add lowered version of docs.\n",
    "    C3V4: For long doc.\n",
    "    C3V5: Caching search results.\n",
    "    C3V6: Pre-caching all words in docs.\n",
    "    C3V7: Add Serialize/UnSerialize.\n",
    "    ----------------C4V0-----------------\n",
    "    C4V1: Add basic Bool query support\n",
    "    C4V2: Add wordseg to get_word_match()\n",
    "\n",
    "    Attributes\n",
    "    ----------\n",
    "    filename : str\n",
    "        file name of doc data\n",
    "    multi_factor : int\n",
    "        data multiplication factor(default 1)\n",
    "\n",
    "    Methods\n",
    "    -------\n",
    "    load_data(filename):\n",
    "        load data from file.\n",
    "    save_data(filename):\n",
    "        save data to file\n",
    "    pre_cache_all():\n",
    "        Pre-caching all words in docs.\n",
    "    highlight(text, keyword):\n",
    "        highlight text with keyword.\n",
    "    score(text, keyword):\n",
    "        get score of text for a query.\n",
    "    get_word_match(self, keyword):\n",
    "        get doc set containing keyword.\n",
    "    search(keyword, num=15):\n",
    "        get top num search results of a query.\n",
    "    render(result_list, keyword):\n",
    "        output search results with highlight.\n",
    "    query_to_set_expression(query):\n",
    "        convert bool query to set expression(for eval process).\n",
    "    get_word_match(word):\n",
    "        get match set of the word.\n",
    "    \"\"\"\n",
    "    \n",
    "    def get_word_match(self, word):\n",
    "        if_first_subword = True\n",
    "        result = None\n",
    "        for term in list(jieba.cut(word)):\n",
    "            if if_first_subword:\n",
    "                result = self.search_cache[term]\n",
    "                if_first_subword = False\n",
    "            else:\n",
    "                result = result & self.search_cache[term]\n",
    "            if not result:\n",
    "                break\n",
    "        return result"
   ]
  },
  {
   "cell_type": "code",
   "execution_count": 60,
   "id": "98ca8564-8517-497d-81a0-55948257e617",
   "metadata": {},
   "outputs": [],
   "source": [
    "searcher = MySearchC4V2('titles_l.dat', 1)"
   ]
  },
  {
   "cell_type": "code",
   "execution_count": 61,
   "id": "fa0a1585-c39a-4fc7-8834-9910fe8c6288",
   "metadata": {},
   "outputs": [
    {
     "data": {
      "text/html": [
       "1、iphone 13出来后！闲鱼上的二手iphone简直不要太香<br/>事情的起因是这样的，每次苹果发布新款 iphone，托尼总能注意到网上都会出现一帮网友在喊着 “ 老款 iphone 降价，终于可以去买老款了 ” 的口号。出现这种现象的原因往往不是因为新出来的 iphone 不香，而是要怪 i......"
      ],
      "text/plain": [
       "<IPython.core.display.HTML object>"
      ]
     },
     "metadata": {},
     "output_type": "display_data"
    }
   ],
   "source": [
    "query = 'iphone手机 AND 二手 NOT 飞机'\n",
    "search_result = searcher.search(query, num=5)\n",
    "searcher.render(search_result, query)"
   ]
  }
 ],
 "metadata": {
  "kernelspec": {
   "display_name": "Python 3",
   "language": "python",
   "name": "python3"
  },
  "language_info": {
   "codemirror_mode": {
    "name": "ipython",
    "version": 3
   },
   "file_extension": ".py",
   "mimetype": "text/x-python",
   "name": "python",
   "nbconvert_exporter": "python",
   "pygments_lexer": "ipython3",
   "version": "3.9.5"
  }
 },
 "nbformat": 4,
 "nbformat_minor": 5
}
