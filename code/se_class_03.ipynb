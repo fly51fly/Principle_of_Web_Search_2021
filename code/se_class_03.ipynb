{
 "cells": [
  {
   "cell_type": "markdown",
   "id": "1da58b48-4061-4d54-9946-c63c068c774c",
   "metadata": {},
   "source": [
    "### 封装的简单搜索类，目的有三点：封装、重用、可读性"
   ]
  },
  {
   "cell_type": "code",
   "execution_count": null,
   "id": "26db591c-4146-40d4-9100-982b78767c3e",
   "metadata": {},
   "outputs": [],
   "source": [
    "from IPython.core.display import display, HTML\n",
    "\n",
    "class MySearchV0():\n",
    "    \"\"\"\n",
    "    Base class for Search Engine.\n",
    "\n",
    "    ...\n",
    "\n",
    "    Attributes\n",
    "    ----------\n",
    "    filename : str\n",
    "        file name of doc data\n",
    "\n",
    "    Methods\n",
    "    -------\n",
    "    load_data(filename):\n",
    "        load data from file.\n",
    "    highlight(text, keyword):\n",
    "        highlight text with keyword.\n",
    "    score(text, keyword):\n",
    "        get score of text for a query.\n",
    "    search(keyword):\n",
    "        get search results of a query.\n",
    "    render(result_list, keyword):\n",
    "        output search results with highlight.\n",
    "    \"\"\"\n",
    "    \n",
    "    def __init__(self, filename):\n",
    "        self.docs = []\n",
    "        self.load_data(filename)\n",
    "        \n",
    "    def load_data(self, filename):\n",
    "        with open(filename, 'r') as f:\n",
    "            self.docs = f.read().split('\\n')\n",
    "    \n",
    "    def highlight(self, text, keyword):\n",
    "        idx = text.lower().find(keyword.lower())\n",
    "        result = text\n",
    "        if idx >= 0:\n",
    "            ori_keyword = text[idx:idx+len(keyword)]\n",
    "            result = text.replace(ori_keyword, \n",
    "                                  f'<span style=\"color:red\">{ori_keyword}</span>')\n",
    "        return result\n",
    "\n",
    "    def score(self, text, keyword):\n",
    "        result = text.lower().count(keyword.lower())\n",
    "        return result\n",
    "\n",
    "    def search(self, keyword):\n",
    "        result_list = []\n",
    "        for tid, title in enumerate(self.docs):\n",
    "            if keyword.lower() in title.lower():\n",
    "                result_list.append([tid, self.score(title, keyword)])\n",
    "        result_list.sort(key = lambda x: x[1], reverse=True)\n",
    "        return [doc_id for doc_id, _ in result_list]\n",
    "\n",
    "    def render(self, result_list, keyword):\n",
    "        count = 1\n",
    "        for item in result_list:\n",
    "            display(HTML(f\"{count}、{self.highlight(self.docs[item], keyword)}\"))\n",
    "            count += 1"
   ]
  },
  {
   "cell_type": "code",
   "execution_count": null,
   "id": "783fbc46-cb86-44e6-9416-9437825ecef2",
   "metadata": {},
   "outputs": [],
   "source": [
    "searcher = MySearchV0('titles.txt')"
   ]
  },
  {
   "cell_type": "code",
   "execution_count": null,
   "id": "64514986-17df-4292-922d-39fa6db93851",
   "metadata": {},
   "outputs": [],
   "source": [
    "keyword = '笔记本'\n",
    "search_result = searcher.search(keyword)\n",
    "searcher.render(search_result, keyword)"
   ]
  },
  {
   "cell_type": "markdown",
   "id": "77f66587-16d2-449c-bf68-66992c2d06a6",
   "metadata": {},
   "source": [
    "#### 目前简单关键词搜索功能正常，下面从性能方面进行测试"
   ]
  },
  {
   "cell_type": "markdown",
   "id": "1b5ec686-c6dd-46f4-9984-8808a93ac6a4",
   "metadata": {},
   "source": [
    "#### 为搜索类添加**数据倍增**功能，对倍增后的搜索性能进行测试"
   ]
  },
  {
   "cell_type": "code",
   "execution_count": null,
   "id": "43ad3a97-7c0d-4c9d-b102-bf7245e67cc7",
   "metadata": {},
   "outputs": [],
   "source": [
    "from IPython.core.display import display, HTML\n",
    "\n",
    "class MySearchV1(MySearchV0):\n",
    "    \"\"\"\n",
    "    V0: Base class for Search Engine.\n",
    "    V1: Data multiplication added.\n",
    "\n",
    "    Attributes\n",
    "    ----------\n",
    "    filename : str\n",
    "        file name of doc data\n",
    "    multi_factor : int\n",
    "        data multiplication factor(default 1)\n",
    "\n",
    "    Methods\n",
    "    -------\n",
    "    load_data(filename):\n",
    "        load data from file.\n",
    "    highlight(text, keyword):\n",
    "        highlight text with keyword.\n",
    "    score(text, keyword):\n",
    "        get score of text for a query.\n",
    "    search(keyword):\n",
    "        get search results of a query.\n",
    "    render(result_list, keyword):\n",
    "        output search results with highlight.\n",
    "    \"\"\"\n",
    "    \n",
    "    def __init__(self, filename, multi_factor=1):\n",
    "        self.docs = []\n",
    "        self.multi_factor = multi_factor #data multiplication factor(default 1)\n",
    "        self.load_data(filename)\n",
    "        \n",
    "    def load_data(self, filename):\n",
    "        with open(filename, 'r') as f:\n",
    "            self.docs = f.read().split('\\n')\n",
    "        self.docs = self.docs * self.multi_factor #simple data multiplication"
   ]
  },
  {
   "cell_type": "code",
   "execution_count": null,
   "id": "7d386046-2394-4285-8c0f-e1741aabcb30",
   "metadata": {},
   "outputs": [],
   "source": [
    "help(MySearchV1)"
   ]
  },
  {
   "cell_type": "markdown",
   "id": "2997d931-e959-49b0-a77a-fbdbfa5341ee",
   "metadata": {},
   "source": [
    "#### 对搜索用时进行测试"
   ]
  },
  {
   "cell_type": "code",
   "execution_count": null,
   "id": "503bbacc-b8a5-4423-b736-86a1a7287c4f",
   "metadata": {},
   "outputs": [],
   "source": [
    "searcher = MySearchV1('titles.txt', 5000)"
   ]
  },
  {
   "cell_type": "code",
   "execution_count": null,
   "id": "7666f8f1-a52d-4e1c-8c01-139e6cf304b6",
   "metadata": {},
   "outputs": [],
   "source": [
    "keyword = '手机'\n",
    "%time search_result = searcher.search(keyword)"
   ]
  },
  {
   "cell_type": "markdown",
   "id": "c4e67dc9-9ada-41ea-9780-c9bac2d2d450",
   "metadata": {},
   "source": [
    "#### 分析性能瓶颈"
   ]
  },
  {
   "cell_type": "code",
   "execution_count": null,
   "id": "02b650fc-8f8d-473c-9484-445d482d1f5d",
   "metadata": {},
   "outputs": [],
   "source": [
    "%prun search_result = searcher.search(keyword)"
   ]
  },
  {
   "cell_type": "markdown",
   "id": "8f27eba5-74cf-4d52-88d6-a32f1e866f3b",
   "metadata": {},
   "source": [
    "#### 可以看到，lower()、count()、sort()目前是最大的三块开销，sort()是个隐患，想想为什么？\n",
    "#### sort()的一种优化思路：`分而治之`，对每条候选结果进行筛选，\n",
    "#### 只保留得分大于目前候选集合里最低得分的文档。"
   ]
  },
  {
   "cell_type": "code",
   "execution_count": null,
   "id": "cbdbed4e-7076-4d6d-bfc5-e42cf3c7ec30",
   "metadata": {},
   "outputs": [],
   "source": [
    "from IPython.core.display import display, HTML\n",
    "import bisect\n",
    "\n",
    "class MySearchV2(MySearchV1):\n",
    "    \"\"\"\n",
    "    V0: Base class for Search Engine.\n",
    "    V1: Data multiplication added.\n",
    "    V2: Sorting optimization.\n",
    "\n",
    "    Attributes\n",
    "    ----------\n",
    "    filename : str\n",
    "        file name of doc data\n",
    "    multi_factor : int\n",
    "        data multiplication factor(default 1)\n",
    "\n",
    "    Methods\n",
    "    -------\n",
    "    load_data(filename):\n",
    "        load data from file.\n",
    "    highlight(text, keyword):\n",
    "        highlight text with keyword.\n",
    "    score(text, keyword):\n",
    "        get score of text for a query.\n",
    "    search(keyword, num=15):\n",
    "        get top num search results of a query.\n",
    "    render(result_list, keyword):\n",
    "        output search results with highlight.\n",
    "    \"\"\"\n",
    "    \n",
    "    def search(self, keyword, num=15):\n",
    "        result_list = []\n",
    "        min_score = 0\n",
    "        for tid, title in enumerate(self.docs):\n",
    "            if keyword.lower() in title.lower():\n",
    "                score = self.score(title, keyword)\n",
    "                if len(result_list) == num:\n",
    "                    if score > min_score:\n",
    "                        insert_idx = bisect.bisect(\n",
    "                            [doc_score[1] for doc_score in result_list], \n",
    "                            score\n",
    "                        )\n",
    "                        min_score = result_list[0][1]\n",
    "                        result_list = result_list[1:insert_idx] + \\\n",
    "                                        [(tid, score)] + \\\n",
    "                                        result_list[insert_idx:]\n",
    "                elif len(result_list) < num - 1:\n",
    "                    result_list.append((tid, score))\n",
    "                elif len(result_list) == num - 1:\n",
    "                    result_list.append((tid, score))\n",
    "                    result_list.sort(key = lambda x: x[1])\n",
    "                    min_score = result_list[0][1]\n",
    "        return [doc_id for doc_id, _ in result_list[::-1]]"
   ]
  },
  {
   "cell_type": "code",
   "execution_count": null,
   "id": "76b07b15-0465-463b-8b54-2ed0404df15b",
   "metadata": {},
   "outputs": [],
   "source": [
    "searcher = MySearchV2('titles.txt', 5000)"
   ]
  },
  {
   "cell_type": "code",
   "execution_count": null,
   "id": "2714112f-1d28-4be0-b8a6-55a4ababa7bd",
   "metadata": {},
   "outputs": [],
   "source": [
    "keyword = '笔记本'\n",
    "search_result = searcher.search(keyword, num=5)\n",
    "searcher.render(search_result, keyword)"
   ]
  },
  {
   "cell_type": "code",
   "execution_count": null,
   "id": "bbad4ba4-4af3-459b-875a-39ad03d1b0c9",
   "metadata": {},
   "outputs": [],
   "source": [
    "keyword = '笔记本'\n",
    "%time search_result = searcher.search(keyword)"
   ]
  },
  {
   "cell_type": "code",
   "execution_count": null,
   "id": "bfbbc0b9-3e13-4822-83a0-9f5c314ee891",
   "metadata": {},
   "outputs": [],
   "source": [
    "%prun search_result = searcher.search(keyword)"
   ]
  },
  {
   "cell_type": "markdown",
   "id": "21401262-d042-45ef-bf17-af32a2c5792a",
   "metadata": {},
   "source": [
    "#### count()能优化吗？有什么思路？"
   ]
  },
  {
   "cell_type": "markdown",
   "id": "fd265f9c-756b-49c0-a39c-0cd8459dea75",
   "metadata": {
    "tags": []
   },
   "source": [
    "#### 耗时最长的操作：lower()函数的频繁运行\n",
    "#### 优化思路：`用空间换时间`，预存文档的小写化版本"
   ]
  },
  {
   "cell_type": "code",
   "execution_count": null,
   "id": "cfb263c5-44fa-44bc-a9e2-760dda17ebf0",
   "metadata": {},
   "outputs": [],
   "source": [
    "from IPython.core.display import display, HTML\n",
    "import bisect\n",
    "\n",
    "class MySearchV3(MySearchV2):\n",
    "    \"\"\"\n",
    "    V0: Base class for Search Engine.\n",
    "    V1: Data multiplication added.\n",
    "    V2: Sorting optimization.\n",
    "    V3: Add lowered version of docs.\n",
    "\n",
    "    Attributes\n",
    "    ----------\n",
    "    filename : str\n",
    "        file name of doc data\n",
    "    multi_factor : int\n",
    "        data multiplication factor(default 1)\n",
    "\n",
    "    Methods\n",
    "    -------\n",
    "    load_data(filename):\n",
    "        load data from file.\n",
    "    highlight(text, keyword):\n",
    "        highlight text with keyword.\n",
    "    score(text, keyword):\n",
    "        get score of text for a query.\n",
    "    search(keyword, num=15):\n",
    "        get top num search results of a query.\n",
    "    render(result_list, keyword):\n",
    "        output search results with highlight.\n",
    "    \"\"\"\n",
    "    \n",
    "    def __init__(self, filename, multi_factor=1):\n",
    "        self.docs = []\n",
    "        self.docs_lower = [] #\n",
    "        self.multi_factor = multi_factor #data multiplication factor(default 1)\n",
    "        self.load_data(filename)\n",
    "        \n",
    "    def load_data(self, filename):\n",
    "        with open(filename, 'r') as f:\n",
    "            self.docs = f.read().split('\\n')\n",
    "        self.docs_lower = [doc.lower() for doc in self.docs] #\n",
    "        self.docs = self.docs * self.multi_factor \n",
    "        self.docs_lower = self.docs_lower * self.multi_factor #\n",
    "    \n",
    "    def highlight(self, text, keyword, ori_text):\n",
    "        idx = text.find(keyword)\n",
    "        result = text\n",
    "        if idx >= 0:\n",
    "            ori_keyword = ori_text[idx:idx+len(keyword)]\n",
    "            result = ori_text.replace(ori_keyword, f'<span style=\"color:red\">{ori_keyword}</span>')\n",
    "        return result\n",
    "    \n",
    "    def score(self, text, keyword):\n",
    "        result = text.count(keyword)\n",
    "        return result\n",
    "    \n",
    "    def search(self, keyword, num=15):\n",
    "        result_list = []\n",
    "        min_score = 0\n",
    "        keyword_lower = keyword.lower()\n",
    "        for tid, title in enumerate(self.docs_lower):\n",
    "            if keyword_lower in title:\n",
    "                score = self.score(title, keyword_lower)\n",
    "                if len(result_list) == num:\n",
    "                    if score > min_score:\n",
    "                        insert_idx = bisect.bisect(\n",
    "                            [doc_score[1] for doc_score in result_list], \n",
    "                            score\n",
    "                        )\n",
    "                        min_score = result_list[0][1]\n",
    "                        result_list = result_list[1:insert_idx] + \\\n",
    "                                        [(tid, score)] + \\\n",
    "                                        result_list[insert_idx:]\n",
    "                elif len(result_list) < num - 1:\n",
    "                    result_list.append((tid, score))\n",
    "                elif len(result_list) == num - 1:\n",
    "                    result_list.append((tid, score))\n",
    "                    result_list.sort(key = lambda x: x[1])\n",
    "                    min_score = result_list[0][1]\n",
    "        return [doc_id for doc_id, _ in result_list[::-1]]\n",
    "    \n",
    "    def render(self, result_list, keyword):\n",
    "        count = 1\n",
    "        for item in result_list:\n",
    "            result = self.highlight(\n",
    "                self.docs_lower[item], \n",
    "                keyword.lower(), \n",
    "                self.docs[item]\n",
    "            )\n",
    "            display(HTML(f\"{count}、{result}\"))\n",
    "            count += 1"
   ]
  },
  {
   "cell_type": "code",
   "execution_count": null,
   "id": "c3e2ca4b-04a0-4f51-824a-e779ea205154",
   "metadata": {},
   "outputs": [],
   "source": [
    "searcher = MySearchV3('titles.txt', 5000)"
   ]
  },
  {
   "cell_type": "code",
   "execution_count": null,
   "id": "42dd2425-fcc7-4da6-b68a-c3c633837c34",
   "metadata": {},
   "outputs": [],
   "source": [
    "keyword = 'iphone'\n",
    "search_result = searcher.search(keyword, num=5)\n",
    "searcher.render(search_result, keyword)"
   ]
  },
  {
   "cell_type": "code",
   "execution_count": null,
   "id": "42f22c13-f730-4571-b21e-63b23d7b6215",
   "metadata": {},
   "outputs": [],
   "source": [
    "keyword = '笔记本'\n",
    "%time search_result = searcher.search(keyword)"
   ]
  },
  {
   "cell_type": "code",
   "execution_count": null,
   "id": "760cf064-792f-4d61-9e23-00f8df395f7d",
   "metadata": {},
   "outputs": [],
   "source": [
    "%prun search_result = searcher.search(keyword)"
   ]
  },
  {
   "cell_type": "markdown",
   "id": "ee682733-91d4-4f96-bc1e-8711c1d79ff1",
   "metadata": {},
   "source": [
    "#### 接下来换```长文档```试试看"
   ]
  },
  {
   "cell_type": "code",
   "execution_count": null,
   "id": "7e980ebc-591f-4867-8ab9-029916114a7e",
   "metadata": {},
   "outputs": [],
   "source": [
    "import requests  \n",
    "from lxml import etree"
   ]
  },
  {
   "cell_type": "code",
   "execution_count": null,
   "id": "7a4f6b90-9675-43d3-b9bc-745f33e96ea1",
   "metadata": {},
   "outputs": [],
   "source": [
    "url = 'https://www.mydrivers.com'  \n",
    "headers = {'user-agent': 'Mozilla/5.0 (Windows NT 10.0; Win64; x64) AppleWebKit/537.36 (KHTML, like Gecko) Chrome/85.0.4183.121 Safari/537.36 Edg/85.0.564.63'}\n",
    "r = requests.get(url, headers=headers)  \n",
    "sel = etree.HTML(r.content) "
   ]
  },
  {
   "cell_type": "code",
   "execution_count": null,
   "id": "743bcdab-ba08-4392-b08d-c7c243747350",
   "metadata": {},
   "outputs": [],
   "source": [
    "link_set = set()\n",
    "news_list = []\n",
    "count = 0\n",
    "for item in sel.xpath(\"//span[@class='titl']/a\"): \n",
    "    title = item.text\n",
    "    if title:\n",
    "        link = item.attrib['href']\n",
    "        if link not in link_set:\n",
    "            r = requests.get(link, headers=headers)  \n",
    "            sel_c = etree.HTML(r.content)  \n",
    "            text_block = sel_c.xpath(\"//div[@class='news_info']\") \n",
    "            if text_block:\n",
    "                content = ''.join(text_block[0].xpath('./p/text()')).replace('\\n', '').replace('\\r', '').replace('\\t', '')\n",
    "                news_list.append('$$$'.join((title, content, link)))\n",
    "                link_set.add(link)\n",
    "                count += 1\n",
    "                if count % 15 == 0:\n",
    "                    print(count, 'processed.')"
   ]
  },
  {
   "cell_type": "code",
   "execution_count": null,
   "id": "797ab8ae-2290-484e-aa7b-a22ad915a34d",
   "metadata": {},
   "outputs": [],
   "source": [
    "with open('titles_l.txt', 'w') as f:\n",
    "    for line in news_list:\n",
    "        f.write(line)\n",
    "        f.write('\\n')"
   ]
  },
  {
   "cell_type": "code",
   "execution_count": null,
   "id": "9bbfe413-6027-45d2-9f5d-11d46cf3ae0f",
   "metadata": {},
   "outputs": [],
   "source": [
    "!head titles_l.txt"
   ]
  },
  {
   "cell_type": "code",
   "execution_count": null,
   "id": "7c31da84-1400-4887-8f6f-b44c0d4ce1a1",
   "metadata": {},
   "outputs": [],
   "source": [
    "from IPython.core.display import display, HTML\n",
    "import bisect\n",
    "\n",
    "class MySearchV4(MySearchV3):\n",
    "    \"\"\"\n",
    "    V0: Base class for Search Engine.\n",
    "    V1: Data multiplication added.\n",
    "    V2: Sorting optimization.\n",
    "    V3: Add lowered version of docs.\n",
    "    V4: For long doc.\n",
    "\n",
    "    Attributes\n",
    "    ----------\n",
    "    filename : str\n",
    "        file name of doc data\n",
    "    multi_factor : int\n",
    "        data multiplication factor(default 1)\n",
    "\n",
    "    Methods\n",
    "    -------\n",
    "    load_data(filename):\n",
    "        load data from file.\n",
    "    highlight(text, keyword):\n",
    "        highlight text with keyword.\n",
    "    score(text, keyword):\n",
    "        get score of text for a query.\n",
    "    search(keyword, num=15):\n",
    "        get top num search results of a query.\n",
    "    render(result_list, keyword):\n",
    "        output search results with highlight.\n",
    "    \"\"\"\n",
    "    def render(self, result_list, keyword):\n",
    "        count = 1\n",
    "        for item in result_list:\n",
    "            result = self.highlight(\n",
    "                self.docs_lower[item], \n",
    "                keyword.lower(), \n",
    "                self.docs[item]\n",
    "            ).replace('$$$', '<br/>') #\n",
    "            display(HTML(f\"{count}、{result[:150]}......\")) #\n",
    "            count += 1"
   ]
  },
  {
   "cell_type": "code",
   "execution_count": null,
   "id": "8881fdb2-45e5-4fed-826a-55eb2b64a6b7",
   "metadata": {},
   "outputs": [],
   "source": [
    "searcher = MySearchV4('titles_l.txt', 5000)"
   ]
  },
  {
   "cell_type": "code",
   "execution_count": null,
   "id": "739452e2-15cb-4dff-8492-75cae38ab5d8",
   "metadata": {},
   "outputs": [],
   "source": [
    "keyword = '13'\n",
    "search_result = searcher.search(keyword, num=5)\n",
    "searcher.render(search_result, keyword)"
   ]
  },
  {
   "cell_type": "code",
   "execution_count": null,
   "id": "c4a1e9af-505c-4ffc-809d-3780ab655c6f",
   "metadata": {},
   "outputs": [],
   "source": [
    "keyword = '笔记本'\n",
    "%time search_result = searcher.search(keyword)"
   ]
  },
  {
   "cell_type": "code",
   "execution_count": null,
   "id": "b325771e-2c94-435f-a174-53adf778365a",
   "metadata": {},
   "outputs": [],
   "source": [
    "%prun search_result = searcher.search(keyword)"
   ]
  },
  {
   "cell_type": "markdown",
   "id": "236470e9-9748-4da2-9879-2cc1425c312c",
   "metadata": {},
   "source": [
    "#### 单次搜索优化基本完成，现在考虑多次搜索"
   ]
  },
  {
   "cell_type": "code",
   "execution_count": null,
   "id": "05a95844-e38f-4564-9ff7-ce9b92348a82",
   "metadata": {},
   "outputs": [],
   "source": [
    "keyword = '笔记本'\n",
    "%time search_result = searcher.search(keyword)\n",
    "%time search_result = searcher.search(keyword)"
   ]
  },
  {
   "cell_type": "markdown",
   "id": "d7a52f53-3b15-4450-91a6-4f7df0665ca5",
   "metadata": {},
   "source": [
    "#### 应减少相同搜索请求的重复处理开销"
   ]
  },
  {
   "cell_type": "markdown",
   "id": "9bf8aef7-7a68-4c69-b0f7-3d0196aedb4b",
   "metadata": {
    "tags": []
   },
   "source": [
    "#### 性能优化思路：`用空间换时间`\n",
    "##### **缓存**\\(`Cache`\\)：将**最近**处理过的结果保存到**缓存**，下次碰到**相同输入**直接给出结果。"
   ]
  },
  {
   "cell_type": "code",
   "execution_count": null,
   "id": "5689118b-0a4c-4a0e-9308-4720328a9a26",
   "metadata": {},
   "outputs": [],
   "source": [
    "from IPython.core.display import display, HTML\n",
    "import bisect\n",
    "\n",
    "class MySearchV5(MySearchV4):\n",
    "    \"\"\"\n",
    "    V0: Base class for Search Engine.\n",
    "    V1: Data multiplication added.\n",
    "    V2: Sorting optimization.\n",
    "    V3: Add lowered version of docs.\n",
    "    V4: For long doc.\n",
    "    V5: Caching search results.\n",
    "\n",
    "    Attributes\n",
    "    ----------\n",
    "    filename : str\n",
    "        file name of doc data\n",
    "    multi_factor : int\n",
    "        data multiplication factor(default 1)\n",
    "\n",
    "    Methods\n",
    "    -------\n",
    "    load_data(filename):\n",
    "        load data from file.\n",
    "    highlight(text, keyword):\n",
    "        highlight text with keyword.\n",
    "    score(text, keyword):\n",
    "        get score of text for a query.\n",
    "    search(keyword, num=15):\n",
    "        get top num search results of a query.\n",
    "    render(result_list, keyword):\n",
    "        output search results with highlight.\n",
    "    \"\"\"\n",
    "    \n",
    "    def __init__(self, filename, multi_factor=1):\n",
    "        self.docs = []\n",
    "        self.docs_lower = []\n",
    "        self.search_cache = dict() #\n",
    "        self.multi_factor = multi_factor #data multiplication factor(default 1)\n",
    "        self.load_data(filename)\n",
    "    \n",
    "    def search(self, keyword, num=15):\n",
    "        keyword_lower = keyword.lower()\n",
    "        result_set = set()\n",
    "        if keyword_lower in self.search_cache: #\n",
    "            result_set = self.search_cache[keyword_lower] #\n",
    "        else:\n",
    "            for tid, title in enumerate(self.docs_lower):\n",
    "                if keyword_lower in title:\n",
    "                    result_set.add(tid)\n",
    "            self.search_cache[keyword_lower] = result_set\n",
    "            \n",
    "        result_list = []\n",
    "        min_score = 0\n",
    "        for tid in result_set:\n",
    "            doc = self.docs_lower[tid]\n",
    "            if keyword_lower in doc:\n",
    "                score = self.score(doc, keyword_lower)\n",
    "                if len(result_list) == num:\n",
    "                    if score > min_score:\n",
    "                        insert_idx = bisect.bisect(\n",
    "                            [doc_score[1] for doc_score in result_list], \n",
    "                            score\n",
    "                        )\n",
    "                        min_score = result_list[0][1]\n",
    "                        result_list = result_list[1:insert_idx] + \\\n",
    "                                        [(tid, score)] + \\\n",
    "                                        result_list[insert_idx:]\n",
    "                elif len(result_list) < num - 1:\n",
    "                    result_list.append((tid, score))\n",
    "                elif len(result_list) == num - 1:\n",
    "                    result_list.append((tid, score))\n",
    "                    result_list.sort(key = lambda x: x[1])\n",
    "                    min_score = result_list[0][1]\n",
    "        return [doc_id for doc_id, _ in result_list[::-1]]"
   ]
  },
  {
   "cell_type": "markdown",
   "id": "520b5194-e44e-4dea-8428-83c7becd2d5c",
   "metadata": {},
   "source": [
    "#### 进一步将`检索词匹配文档集`的代码提炼成函数(封装、重用、可读性)"
   ]
  },
  {
   "cell_type": "code",
   "execution_count": null,
   "id": "b6627d22-c650-45bc-958e-f13c7dc9f565",
   "metadata": {},
   "outputs": [],
   "source": [
    "from IPython.core.display import display, HTML\n",
    "import bisect\n",
    "\n",
    "class MySearchV5(MySearchV4):\n",
    "    \"\"\"\n",
    "    V0: Base class for Search Engine.\n",
    "    V1: Data multiplication added.\n",
    "    V2: Sorting optimization.\n",
    "    V3: Add lowered version of docs.\n",
    "    V4: For long doc.\n",
    "    V5: Caching search results.\n",
    "\n",
    "    Attributes\n",
    "    ----------\n",
    "    filename : str\n",
    "        file name of doc data\n",
    "    multi_factor : int\n",
    "        data multiplication factor(default 1)\n",
    "\n",
    "    Methods\n",
    "    -------\n",
    "    load_data(filename):\n",
    "        load data from file.\n",
    "    highlight(text, keyword):\n",
    "        highlight text with keyword.\n",
    "    score(text, keyword):\n",
    "        get score of text for a query.\n",
    "    get_word_match(self, keyword):\n",
    "        get doc set containing keyword.\n",
    "    search(keyword, num=15):\n",
    "        get top num search results of a query.\n",
    "    render(result_list, keyword):\n",
    "        output search results with highlight.\n",
    "    \"\"\"\n",
    "    \n",
    "    def __init__(self, filename, multi_factor=1):\n",
    "        self.docs = []\n",
    "        self.docs_lower = []\n",
    "        self.search_cache = dict() #\n",
    "        self.multi_factor = multi_factor #data multiplication factor(default 1)\n",
    "        self.load_data(filename)\n",
    "    \n",
    "    def get_word_match(self, keyword):\n",
    "        result_set = set()\n",
    "        if keyword in self.search_cache: \n",
    "            result_set = self.search_cache[keyword] \n",
    "        else:\n",
    "            for tid, title in enumerate(self.docs_lower):\n",
    "                if keyword in title:\n",
    "                    result_set.add(tid)\n",
    "            self.search_cache[keyword] = result_set\n",
    "        return result_set\n",
    "            \n",
    "    def search(self, keyword, num=15):\n",
    "        keyword_lower = keyword.lower()    \n",
    "        result_list = []\n",
    "        min_score = 0\n",
    "        for tid in self.get_word_match(keyword_lower):\n",
    "            doc = self.docs_lower[tid]\n",
    "            if keyword_lower in doc:\n",
    "                score = self.score(doc, keyword_lower)\n",
    "                if len(result_list) == num:\n",
    "                    if score > min_score:\n",
    "                        insert_idx = bisect.bisect(\n",
    "                            [doc_score[1] for doc_score in result_list], \n",
    "                            score\n",
    "                        )\n",
    "                        min_score = result_list[0][1]\n",
    "                        result_list = result_list[1:insert_idx] + \\\n",
    "                                        [(tid, score)] + \\\n",
    "                                        result_list[insert_idx:]\n",
    "                elif len(result_list) < num - 1:\n",
    "                    result_list.append((tid, score))\n",
    "                elif len(result_list) == num - 1:\n",
    "                    result_list.append((tid, score))\n",
    "                    result_list.sort(key = lambda x: x[1])\n",
    "                    min_score = result_list[0][1]\n",
    "        return [doc_id for doc_id, _ in result_list[::-1]]"
   ]
  },
  {
   "cell_type": "code",
   "execution_count": null,
   "id": "fbba46c8-d4d3-4447-affc-868ef407f182",
   "metadata": {},
   "outputs": [],
   "source": [
    "searcher = MySearchV5('titles_l.txt', 5000)"
   ]
  },
  {
   "cell_type": "code",
   "execution_count": null,
   "id": "0a24467a-ea70-433f-b883-0d7746742f33",
   "metadata": {},
   "outputs": [],
   "source": [
    "keyword = '13'\n",
    "search_result = searcher.search(keyword, num=5)\n",
    "searcher.render(search_result, keyword)"
   ]
  },
  {
   "cell_type": "code",
   "execution_count": null,
   "id": "205f5c20-a303-49ef-8c00-42b9d7bd73a8",
   "metadata": {},
   "outputs": [],
   "source": [
    "keyword = '笔记本'\n",
    "%time search_result = searcher.search(keyword)\n",
    "%time search_result = searcher.search(keyword)"
   ]
  },
  {
   "attachments": {
    "f782e88a-cd8a-4d4b-997e-18fe7d766b7a.jpg": {
     "image/jpeg": "[encoded data removed]"
    }
   },
   "cell_type": "markdown",
   "id": "460f78e1-c854-4edb-bff3-10bd17900396",
   "metadata": {},
   "source": [
    "#### 进一步追问，能否让`第一次搜索`也变得更快？\n",
    "#### 优化思路：用`线下时间`换`线上时间`(本质依然是用`(更大的)空间换时间`)\n",
    "#### 在用户搜索前就在缓存中准备好`可能的搜索词`\n",
    "#### 问题：`可能的搜索词`能穷尽吗？\n",
    "#### 线索：文档集里`有的词`，才有对应的命中文档集，没有的词对应空集。\n",
    "#### 对`文档集包含的每个词`构建`缓存`\n",
    "#### 用`jieba分词`模块\n",
    "![Image on 2021-09-23 10.53.50 AM.jpg](attachment:f782e88a-cd8a-4d4b-997e-18fe7d766b7a.jpg)"
   ]
  },
  {
   "cell_type": "code",
   "execution_count": null,
   "id": "c1db9313-6039-4750-b92e-4b145376a54b",
   "metadata": {},
   "outputs": [],
   "source": [
    "# encoding=utf-8\n",
    "import jieba\n",
    "\n",
    "src_str = \"小明硕士毕业于中国科学院计算所，后在日本京都大学深造\"\n",
    "\n",
    "seg_list = jieba.cut(src_str, cut_all=True)\n",
    "print(\"【全模式】: \" + \", \".join(seg_list))\n",
    "\n",
    "seg_list = jieba.cut(src_str, cut_all=False)\n",
    "print(\"【精确模式】: \" + \", \".join(seg_list))\n",
    "\n",
    "seg_list = jieba.cut(src_str)\n",
    "print(\"【精确模式】: \" + \", \".join(seg_list))\n",
    "\n",
    "seg_list = jieba.cut_for_search(src_str)\n",
    "print(\"【搜索引擎模式】: \" + \", \".join(seg_list))"
   ]
  },
  {
   "cell_type": "code",
   "execution_count": null,
   "id": "3786a815-5d0e-40b0-afec-7564197bdd74",
   "metadata": {},
   "outputs": [],
   "source": [
    "from IPython.core.display import display, HTML\n",
    "import bisect\n",
    "from collections import defaultdict\n",
    "import jieba\n",
    "\n",
    "class MySearchV6(MySearchV5):\n",
    "    \"\"\"\n",
    "    V0: Base class for Search Engine.\n",
    "    V1: Data multiplication added.\n",
    "    V2: Sorting optimization.\n",
    "    V3: Add lowered version of docs.\n",
    "    V4: For long doc.\n",
    "    V5: Caching search results.\n",
    "    V6: Pre-caching all words in docs.\n",
    "\n",
    "    Attributes\n",
    "    ----------\n",
    "    filename : str\n",
    "        file name of doc data\n",
    "    multi_factor : int\n",
    "        data multiplication factor(default 1)\n",
    "\n",
    "    Methods\n",
    "    -------\n",
    "    load_data(filename):\n",
    "        load data from file.\n",
    "    pre_cache_all():\n",
    "        Pre-caching all words in docs.\n",
    "    highlight(text, keyword):\n",
    "        highlight text with keyword.\n",
    "    score(text, keyword):\n",
    "        get score of text for a query.\n",
    "    get_word_match(self, keyword):\n",
    "        get doc set containing keyword.\n",
    "    search(keyword, num=15):\n",
    "        get top num search results of a query.\n",
    "    render(result_list, keyword):\n",
    "        output search results with highlight.\n",
    "    \"\"\"\n",
    "    \n",
    "    def __init__(self, filename, multi_factor=1):\n",
    "        self.docs = []\n",
    "        self.docs_lower = []\n",
    "        self.search_cache = defaultdict(set)\n",
    "        self.multi_factor = multi_factor #data multiplication factor(default 1)\n",
    "        self.load_data(filename)\n",
    "        self.pre_cache_all()\n",
    "        \n",
    "    def pre_cache_all(self):\n",
    "        for tid, doc in enumerate(self.docs_lower):\n",
    "            for word in jieba.cut_for_search(doc):\n",
    "                self.search_cache[word].add(tid)"
   ]
  },
  {
   "cell_type": "code",
   "execution_count": null,
   "id": "a369428c-5584-482c-bf29-6b2a77155d87",
   "metadata": {},
   "outputs": [],
   "source": [
    "searcher = MySearchV6('titles_l.txt', 10)"
   ]
  },
  {
   "cell_type": "code",
   "execution_count": null,
   "id": "50e2d050-4bad-4b36-8745-6b69989ee6e7",
   "metadata": {},
   "outputs": [],
   "source": [
    "len(searcher.search_cache)"
   ]
  },
  {
   "cell_type": "code",
   "execution_count": null,
   "id": "f9722bb9-c63b-4cdf-a72c-b2f855bac1ee",
   "metadata": {},
   "outputs": [],
   "source": [
    "keyword = '汽车'\n",
    "%time search_result = searcher.search(keyword)\n",
    "%time search_result = searcher.search(keyword)"
   ]
  },
  {
   "cell_type": "markdown",
   "id": "771766d0-a6db-40e3-937b-ca33212d792c",
   "metadata": {},
   "source": [
    "#### `初始化时间过长`如何解决？\n",
    "#### - 用`序列化/反序列化`避免重复处理\n",
    "#### - 对已缓存进行`增量更新`"
   ]
  },
  {
   "cell_type": "code",
   "execution_count": null,
   "id": "a54a305b-e3c7-45cb-afbc-fa57cfe9eb68",
   "metadata": {
    "tags": []
   },
   "outputs": [],
   "source": [
    "from IPython.core.display import display, HTML\n",
    "import bisect\n",
    "from collections import defaultdict\n",
    "import jieba\n",
    "import pickle\n",
    "\n",
    "class MySearchV7(MySearchV6):\n",
    "    \"\"\"\n",
    "    V0: Base class for Search Engine.\n",
    "    V1: Data multiplication added.\n",
    "    V2: Sorting optimization.\n",
    "    V3: Add lowered version of docs.\n",
    "    V4: For long doc.\n",
    "    V5: Caching search results.\n",
    "    V6: Pre-caching all words in docs.\n",
    "    V7: Add Serialize/UnSerialize.\n",
    "\n",
    "    Attributes\n",
    "    ----------\n",
    "    filename : str\n",
    "        file name of doc data\n",
    "    multi_factor : int\n",
    "        data multiplication factor(default 1)\n",
    "\n",
    "    Methods\n",
    "    -------\n",
    "    load_data(filename):\n",
    "        load data from file.\n",
    "    save_data(filename):\n",
    "        save data to file\n",
    "    pre_cache_all():\n",
    "        Pre-caching all words in docs.\n",
    "    highlight(text, keyword):\n",
    "        highlight text with keyword.\n",
    "    score(text, keyword):\n",
    "        get score of text for a query.\n",
    "    get_word_match(self, keyword):\n",
    "        get doc set containing keyword.\n",
    "    search(keyword, num=15):\n",
    "        get top num search results of a query.\n",
    "    render(result_list, keyword):\n",
    "        output search results with highlight.\n",
    "    \"\"\"\n",
    "    \n",
    "    def __init__(self, filename, multi_factor=1):\n",
    "        self.docs = []\n",
    "        self.docs_lower = []\n",
    "        self.search_cache = defaultdict(set)\n",
    "        self.multi_factor = multi_factor\n",
    "        self.load_data(filename)\n",
    "        \n",
    "    def load_data(self, filename):\n",
    "        if filename[-3:] == 'txt':\n",
    "            with open(filename, 'r') as f:\n",
    "                self.docs = f.read().split('\\n')\n",
    "            self.docs_lower = [doc.lower() for doc in self.docs]\n",
    "            self.docs = self.docs * self.multi_factor \n",
    "            self.docs_lower = self.docs_lower * self.multi_factor\n",
    "            self.pre_cache_all()\n",
    "        elif filename[-3:] == 'dat':\n",
    "            with open(filename, 'rb') as f:\n",
    "                self.docs, self.docs_lower, self.search_cache = pickle.load(f)\n",
    "    def save_data(self, filename):\n",
    "        with open(filename, 'wb') as f:\n",
    "            pickle.dump((self.docs, self.docs_lower, self.search_cache), f)"
   ]
  },
  {
   "cell_type": "code",
   "execution_count": null,
   "id": "00db5e45-a883-41aa-8544-65cc46b0de25",
   "metadata": {},
   "outputs": [],
   "source": [
    "searcher = MySearchV7('titles_l.txt', 1)"
   ]
  },
  {
   "cell_type": "code",
   "execution_count": null,
   "id": "b6ac9833-8e5c-47fb-b04e-6b59bb792508",
   "metadata": {},
   "outputs": [],
   "source": [
    "searcher.save_data('titles.dat')"
   ]
  },
  {
   "cell_type": "code",
   "execution_count": null,
   "id": "1d28d91a-4aba-426a-808b-066fb5060ced",
   "metadata": {},
   "outputs": [],
   "source": [
    "len(searcher.search_cache)"
   ]
  },
  {
   "cell_type": "code",
   "execution_count": null,
   "id": "a1548c6d-f0a9-413e-a301-e1a3a59ae48e",
   "metadata": {},
   "outputs": [],
   "source": [
    "searcher = MySearchV7('titles.dat', 1)"
   ]
  },
  {
   "cell_type": "code",
   "execution_count": null,
   "id": "035af1ee-5d7f-42d1-90fb-5c57bcf25240",
   "metadata": {},
   "outputs": [],
   "source": [
    "len(searcher.search_cache)"
   ]
  },
  {
   "cell_type": "code",
   "execution_count": null,
   "id": "f76d895f-3e7c-4bea-b5ce-c64f62cdc65d",
   "metadata": {},
   "outputs": [],
   "source": [
    "keyword = 'iphone'\n",
    "search_result = searcher.search(keyword, num=10)\n",
    "searcher.render(search_result, keyword)"
   ]
  },
  {
   "cell_type": "code",
   "execution_count": null,
   "id": "1ec132ae-64be-4197-a382-d06d4f2327bc",
   "metadata": {},
   "outputs": [],
   "source": []
  }
 ],
 "metadata": {
  "kernelspec": {
   "display_name": "Python 3",
   "language": "python",
   "name": "python3"
  },
  "language_info": {
   "codemirror_mode": {
    "name": "ipython",
    "version": 3
   },
   "file_extension": ".py",
   "mimetype": "text/x-python",
   "name": "python",
   "nbconvert_exporter": "python",
   "pygments_lexer": "ipython3",
   "version": "3.9.5"
  }
 },
 "nbformat": 4,
 "nbformat_minor": 5
}
